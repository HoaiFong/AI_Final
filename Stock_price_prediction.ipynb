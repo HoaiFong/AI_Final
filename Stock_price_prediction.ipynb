{
  "nbformat": 4,
  "nbformat_minor": 0,
  "metadata": {
    "colab": {
      "provenance": [],
      "gpuType": "T4"
    },
    "kernelspec": {
      "name": "python3",
      "display_name": "Python 3"
    },
    "language_info": {
      "name": "python"
    },
    "gpuClass": "standard"
  },
  "cells": [
    {
      "cell_type": "code",
      "execution_count": null,
      "metadata": {
        "colab": {
          "base_uri": "https://localhost:8080/"
        },
        "id": "-wWUixP47Yng",
        "outputId": "c99759d6-f0bd-4f18-c3da-93d51c8ac26c"
      },
      "outputs": [
        {
          "output_type": "stream",
          "name": "stdout",
          "text": [
            "\r[*********************100%***********************]  1 of 1 completed\n"
          ]
        }
      ],
      "source": [
        "import yfinance as yf\n",
        "\n",
        "# Download historical gold price data using yfinance\n",
        "googl_data = yf.download('GOOGL', start='2013-05-15', end='2023-05-15')"
      ]
    },
    {
      "cell_type": "code",
      "source": [
        "googl_data"
      ],
      "metadata": {
        "colab": {
          "base_uri": "https://localhost:8080/",
          "height": 455
        },
        "id": "dnobnSq678ND",
        "outputId": "0e3b356d-41c7-4b3a-ec3c-475695d35ab5"
      },
      "execution_count": null,
      "outputs": [
        {
          "output_type": "execute_result",
          "data": {
            "text/plain": [
              "                  Open        High         Low       Close   Adj Close  \\\n",
              "Date                                                                     \n",
              "2013-05-15   22.409910   22.932432   22.372873   22.920170   22.920170   \n",
              "2013-05-16   22.997997   23.022524   22.572823   22.619370   22.619370   \n",
              "2013-05-17   22.773273   22.860109   22.535536   22.752253   22.752253   \n",
              "2013-05-20   22.647648   23.038038   22.647648   22.735987   22.735987   \n",
              "2013-05-21   22.723223   22.814314   22.462713   22.696947   22.696947   \n",
              "...                ...         ...         ...         ...         ...   \n",
              "2023-05-08  105.180000  107.959999  105.160004  107.769997  107.769997   \n",
              "2023-05-09  108.389999  110.150002  107.190002  107.349998  107.349998   \n",
              "2023-05-10  107.970001  112.940002  107.930000  111.750000  111.750000   \n",
              "2023-05-11  115.400002  117.919998  114.410004  116.570000  116.570000   \n",
              "2023-05-12  116.680000  118.029999  116.110001  117.510002  117.510002   \n",
              "\n",
              "               Volume  \n",
              "Date                   \n",
              "2013-05-15  159276564  \n",
              "2013-05-16  128255616  \n",
              "2013-05-17  111568320  \n",
              "2013-05-20   90817092  \n",
              "2013-05-21   79240680  \n",
              "...               ...  \n",
              "2023-05-08   26511400  \n",
              "2023-05-09   36360100  \n",
              "2023-05-10   63153400  \n",
              "2023-05-11   78900000  \n",
              "2023-05-12   41073800  \n",
              "\n",
              "[2517 rows x 6 columns]"
            ],
            "text/html": [
              "\n",
              "  <div id=\"df-9e7ac98f-395c-4af5-8234-0966def5f87d\">\n",
              "    <div class=\"colab-df-container\">\n",
              "      <div>\n",
              "<style scoped>\n",
              "    .dataframe tbody tr th:only-of-type {\n",
              "        vertical-align: middle;\n",
              "    }\n",
              "\n",
              "    .dataframe tbody tr th {\n",
              "        vertical-align: top;\n",
              "    }\n",
              "\n",
              "    .dataframe thead th {\n",
              "        text-align: right;\n",
              "    }\n",
              "</style>\n",
              "<table border=\"1\" class=\"dataframe\">\n",
              "  <thead>\n",
              "    <tr style=\"text-align: right;\">\n",
              "      <th></th>\n",
              "      <th>Open</th>\n",
              "      <th>High</th>\n",
              "      <th>Low</th>\n",
              "      <th>Close</th>\n",
              "      <th>Adj Close</th>\n",
              "      <th>Volume</th>\n",
              "    </tr>\n",
              "    <tr>\n",
              "      <th>Date</th>\n",
              "      <th></th>\n",
              "      <th></th>\n",
              "      <th></th>\n",
              "      <th></th>\n",
              "      <th></th>\n",
              "      <th></th>\n",
              "    </tr>\n",
              "  </thead>\n",
              "  <tbody>\n",
              "    <tr>\n",
              "      <th>2013-05-15</th>\n",
              "      <td>22.409910</td>\n",
              "      <td>22.932432</td>\n",
              "      <td>22.372873</td>\n",
              "      <td>22.920170</td>\n",
              "      <td>22.920170</td>\n",
              "      <td>159276564</td>\n",
              "    </tr>\n",
              "    <tr>\n",
              "      <th>2013-05-16</th>\n",
              "      <td>22.997997</td>\n",
              "      <td>23.022524</td>\n",
              "      <td>22.572823</td>\n",
              "      <td>22.619370</td>\n",
              "      <td>22.619370</td>\n",
              "      <td>128255616</td>\n",
              "    </tr>\n",
              "    <tr>\n",
              "      <th>2013-05-17</th>\n",
              "      <td>22.773273</td>\n",
              "      <td>22.860109</td>\n",
              "      <td>22.535536</td>\n",
              "      <td>22.752253</td>\n",
              "      <td>22.752253</td>\n",
              "      <td>111568320</td>\n",
              "    </tr>\n",
              "    <tr>\n",
              "      <th>2013-05-20</th>\n",
              "      <td>22.647648</td>\n",
              "      <td>23.038038</td>\n",
              "      <td>22.647648</td>\n",
              "      <td>22.735987</td>\n",
              "      <td>22.735987</td>\n",
              "      <td>90817092</td>\n",
              "    </tr>\n",
              "    <tr>\n",
              "      <th>2013-05-21</th>\n",
              "      <td>22.723223</td>\n",
              "      <td>22.814314</td>\n",
              "      <td>22.462713</td>\n",
              "      <td>22.696947</td>\n",
              "      <td>22.696947</td>\n",
              "      <td>79240680</td>\n",
              "    </tr>\n",
              "    <tr>\n",
              "      <th>...</th>\n",
              "      <td>...</td>\n",
              "      <td>...</td>\n",
              "      <td>...</td>\n",
              "      <td>...</td>\n",
              "      <td>...</td>\n",
              "      <td>...</td>\n",
              "    </tr>\n",
              "    <tr>\n",
              "      <th>2023-05-08</th>\n",
              "      <td>105.180000</td>\n",
              "      <td>107.959999</td>\n",
              "      <td>105.160004</td>\n",
              "      <td>107.769997</td>\n",
              "      <td>107.769997</td>\n",
              "      <td>26511400</td>\n",
              "    </tr>\n",
              "    <tr>\n",
              "      <th>2023-05-09</th>\n",
              "      <td>108.389999</td>\n",
              "      <td>110.150002</td>\n",
              "      <td>107.190002</td>\n",
              "      <td>107.349998</td>\n",
              "      <td>107.349998</td>\n",
              "      <td>36360100</td>\n",
              "    </tr>\n",
              "    <tr>\n",
              "      <th>2023-05-10</th>\n",
              "      <td>107.970001</td>\n",
              "      <td>112.940002</td>\n",
              "      <td>107.930000</td>\n",
              "      <td>111.750000</td>\n",
              "      <td>111.750000</td>\n",
              "      <td>63153400</td>\n",
              "    </tr>\n",
              "    <tr>\n",
              "      <th>2023-05-11</th>\n",
              "      <td>115.400002</td>\n",
              "      <td>117.919998</td>\n",
              "      <td>114.410004</td>\n",
              "      <td>116.570000</td>\n",
              "      <td>116.570000</td>\n",
              "      <td>78900000</td>\n",
              "    </tr>\n",
              "    <tr>\n",
              "      <th>2023-05-12</th>\n",
              "      <td>116.680000</td>\n",
              "      <td>118.029999</td>\n",
              "      <td>116.110001</td>\n",
              "      <td>117.510002</td>\n",
              "      <td>117.510002</td>\n",
              "      <td>41073800</td>\n",
              "    </tr>\n",
              "  </tbody>\n",
              "</table>\n",
              "<p>2517 rows × 6 columns</p>\n",
              "</div>\n",
              "      <button class=\"colab-df-convert\" onclick=\"convertToInteractive('df-9e7ac98f-395c-4af5-8234-0966def5f87d')\"\n",
              "              title=\"Convert this dataframe to an interactive table.\"\n",
              "              style=\"display:none;\">\n",
              "        \n",
              "  <svg xmlns=\"http://www.w3.org/2000/svg\" height=\"24px\"viewBox=\"0 0 24 24\"\n",
              "       width=\"24px\">\n",
              "    <path d=\"M0 0h24v24H0V0z\" fill=\"none\"/>\n",
              "    <path d=\"M18.56 5.44l.94 2.06.94-2.06 2.06-.94-2.06-.94-.94-2.06-.94 2.06-2.06.94zm-11 1L8.5 8.5l.94-2.06 2.06-.94-2.06-.94L8.5 2.5l-.94 2.06-2.06.94zm10 10l.94 2.06.94-2.06 2.06-.94-2.06-.94-.94-2.06-.94 2.06-2.06.94z\"/><path d=\"M17.41 7.96l-1.37-1.37c-.4-.4-.92-.59-1.43-.59-.52 0-1.04.2-1.43.59L10.3 9.45l-7.72 7.72c-.78.78-.78 2.05 0 2.83L4 21.41c.39.39.9.59 1.41.59.51 0 1.02-.2 1.41-.59l7.78-7.78 2.81-2.81c.8-.78.8-2.07 0-2.86zM5.41 20L4 18.59l7.72-7.72 1.47 1.35L5.41 20z\"/>\n",
              "  </svg>\n",
              "      </button>\n",
              "      \n",
              "  <style>\n",
              "    .colab-df-container {\n",
              "      display:flex;\n",
              "      flex-wrap:wrap;\n",
              "      gap: 12px;\n",
              "    }\n",
              "\n",
              "    .colab-df-convert {\n",
              "      background-color: #E8F0FE;\n",
              "      border: none;\n",
              "      border-radius: 50%;\n",
              "      cursor: pointer;\n",
              "      display: none;\n",
              "      fill: #1967D2;\n",
              "      height: 32px;\n",
              "      padding: 0 0 0 0;\n",
              "      width: 32px;\n",
              "    }\n",
              "\n",
              "    .colab-df-convert:hover {\n",
              "      background-color: #E2EBFA;\n",
              "      box-shadow: 0px 1px 2px rgba(60, 64, 67, 0.3), 0px 1px 3px 1px rgba(60, 64, 67, 0.15);\n",
              "      fill: #174EA6;\n",
              "    }\n",
              "\n",
              "    [theme=dark] .colab-df-convert {\n",
              "      background-color: #3B4455;\n",
              "      fill: #D2E3FC;\n",
              "    }\n",
              "\n",
              "    [theme=dark] .colab-df-convert:hover {\n",
              "      background-color: #434B5C;\n",
              "      box-shadow: 0px 1px 3px 1px rgba(0, 0, 0, 0.15);\n",
              "      filter: drop-shadow(0px 1px 2px rgba(0, 0, 0, 0.3));\n",
              "      fill: #FFFFFF;\n",
              "    }\n",
              "  </style>\n",
              "\n",
              "      <script>\n",
              "        const buttonEl =\n",
              "          document.querySelector('#df-9e7ac98f-395c-4af5-8234-0966def5f87d button.colab-df-convert');\n",
              "        buttonEl.style.display =\n",
              "          google.colab.kernel.accessAllowed ? 'block' : 'none';\n",
              "\n",
              "        async function convertToInteractive(key) {\n",
              "          const element = document.querySelector('#df-9e7ac98f-395c-4af5-8234-0966def5f87d');\n",
              "          const dataTable =\n",
              "            await google.colab.kernel.invokeFunction('convertToInteractive',\n",
              "                                                     [key], {});\n",
              "          if (!dataTable) return;\n",
              "\n",
              "          const docLinkHtml = 'Like what you see? Visit the ' +\n",
              "            '<a target=\"_blank\" href=https://colab.research.google.com/notebooks/data_table.ipynb>data table notebook</a>'\n",
              "            + ' to learn more about interactive tables.';\n",
              "          element.innerHTML = '';\n",
              "          dataTable['output_type'] = 'display_data';\n",
              "          await google.colab.output.renderOutput(dataTable, element);\n",
              "          const docLink = document.createElement('div');\n",
              "          docLink.innerHTML = docLinkHtml;\n",
              "          element.appendChild(docLink);\n",
              "        }\n",
              "      </script>\n",
              "    </div>\n",
              "  </div>\n",
              "  "
            ]
          },
          "metadata": {},
          "execution_count": 2
        }
      ]
    },
    {
      "cell_type": "code",
      "source": [
        "googl_data.shape"
      ],
      "metadata": {
        "colab": {
          "base_uri": "https://localhost:8080/"
        },
        "id": "FevoFzNj9KET",
        "outputId": "a76af1b7-6555-406f-e491-acf29524f719"
      },
      "execution_count": null,
      "outputs": [
        {
          "output_type": "execute_result",
          "data": {
            "text/plain": [
              "(2517, 6)"
            ]
          },
          "metadata": {},
          "execution_count": 3
        }
      ]
    },
    {
      "cell_type": "code",
      "source": [
        "import matplotlib.pyplot as plt\n",
        "\n",
        "plt.figure(figsize =(8,4))\n",
        "plt.title('Close Price History')\n",
        "plt.plot(googl_data['Close'])\n",
        "plt.xlabel('Date', fontsize = 10)\n",
        "plt.ylabel('Close Price USD', fontsize = 10)\n",
        "plt.show()"
      ],
      "metadata": {
        "colab": {
          "base_uri": "https://localhost:8080/",
          "height": 410
        },
        "id": "XvdZnecvPlGO",
        "outputId": "0020ace9-cc80-441e-d6d7-5146d6d74940"
      },
      "execution_count": null,
      "outputs": [
        {
          "output_type": "display_data",
          "data": {
            "text/plain": [
              "<Figure size 800x400 with 1 Axes>"
            ],
            "image/png": "[encoded data removed]"
          },
          "metadata": {}
        }
      ]
    },
    {
      "cell_type": "code",
      "source": [
        "import math\n",
        "data = googl_data.filter(['Close'])\n",
        "dataset = data.values\n",
        "training_data_len = math.ceil(len(dataset) * .8)\n",
        "training_data_len"
      ],
      "metadata": {
        "colab": {
          "base_uri": "https://localhost:8080/"
        },
        "id": "4b_xu1HBPm4H",
        "outputId": "6336b55f-911a-4084-a547-f91098cf9cc2"
      },
      "execution_count": null,
      "outputs": [
        {
          "output_type": "execute_result",
          "data": {
            "text/plain": [
              "2014"
            ]
          },
          "metadata": {},
          "execution_count": 5
        }
      ]
    },
    {
      "cell_type": "code",
      "source": [
        "dataset"
      ],
      "metadata": {
        "colab": {
          "base_uri": "https://localhost:8080/"
        },
        "id": "xZ-FW7eeRQ8D",
        "outputId": "1052e187-768d-4f0f-eb8f-9866cc67b67d"
      },
      "execution_count": null,
      "outputs": [
        {
          "output_type": "execute_result",
          "data": {
            "text/plain": [
              "array([[ 22.92016983],\n",
              "       [ 22.61936951],\n",
              "       [ 22.75225258],\n",
              "       ...,\n",
              "       [111.75      ],\n",
              "       [116.56999969],\n",
              "       [117.51000214]])"
            ]
          },
          "metadata": {},
          "execution_count": 6
        }
      ]
    },
    {
      "cell_type": "code",
      "source": [
        "data"
      ],
      "metadata": {
        "colab": {
          "base_uri": "https://localhost:8080/",
          "height": 455
        },
        "id": "P3PxrMr5RWwV",
        "outputId": "645e7972-8418-4690-f407-6fd8b44054fe"
      },
      "execution_count": null,
      "outputs": [
        {
          "output_type": "execute_result",
          "data": {
            "text/plain": [
              "                 Close\n",
              "Date                  \n",
              "2013-05-15   22.920170\n",
              "2013-05-16   22.619370\n",
              "2013-05-17   22.752253\n",
              "2013-05-20   22.735987\n",
              "2013-05-21   22.696947\n",
              "...                ...\n",
              "2023-05-08  107.769997\n",
              "2023-05-09  107.349998\n",
              "2023-05-10  111.750000\n",
              "2023-05-11  116.570000\n",
              "2023-05-12  117.510002\n",
              "\n",
              "[2517 rows x 1 columns]"
            ],
            "text/html": [
              "\n",
              "  <div id=\"df-64bd53e2-c48a-408c-9a9f-bda2f8228e48\">\n",
              "    <div class=\"colab-df-container\">\n",
              "      <div>\n",
              "<style scoped>\n",
              "    .dataframe tbody tr th:only-of-type {\n",
              "        vertical-align: middle;\n",
              "    }\n",
              "\n",
              "    .dataframe tbody tr th {\n",
              "        vertical-align: top;\n",
              "    }\n",
              "\n",
              "    .dataframe thead th {\n",
              "        text-align: right;\n",
              "    }\n",
              "</style>\n",
              "<table border=\"1\" class=\"dataframe\">\n",
              "  <thead>\n",
              "    <tr style=\"text-align: right;\">\n",
              "      <th></th>\n",
              "      <th>Close</th>\n",
              "    </tr>\n",
              "    <tr>\n",
              "      <th>Date</th>\n",
              "      <th></th>\n",
              "    </tr>\n",
              "  </thead>\n",
              "  <tbody>\n",
              "    <tr>\n",
              "      <th>2013-05-15</th>\n",
              "      <td>22.920170</td>\n",
              "    </tr>\n",
              "    <tr>\n",
              "      <th>2013-05-16</th>\n",
              "      <td>22.619370</td>\n",
              "    </tr>\n",
              "    <tr>\n",
              "      <th>2013-05-17</th>\n",
              "      <td>22.752253</td>\n",
              "    </tr>\n",
              "    <tr>\n",
              "      <th>2013-05-20</th>\n",
              "      <td>22.735987</td>\n",
              "    </tr>\n",
              "    <tr>\n",
              "      <th>2013-05-21</th>\n",
              "      <td>22.696947</td>\n",
              "    </tr>\n",
              "    <tr>\n",
              "      <th>...</th>\n",
              "      <td>...</td>\n",
              "    </tr>\n",
              "    <tr>\n",
              "      <th>2023-05-08</th>\n",
              "      <td>107.769997</td>\n",
              "    </tr>\n",
              "    <tr>\n",
              "      <th>2023-05-09</th>\n",
              "      <td>107.349998</td>\n",
              "    </tr>\n",
              "    <tr>\n",
              "      <th>2023-05-10</th>\n",
              "      <td>111.750000</td>\n",
              "    </tr>\n",
              "    <tr>\n",
              "      <th>2023-05-11</th>\n",
              "      <td>116.570000</td>\n",
              "    </tr>\n",
              "    <tr>\n",
              "      <th>2023-05-12</th>\n",
              "      <td>117.510002</td>\n",
              "    </tr>\n",
              "  </tbody>\n",
              "</table>\n",
              "<p>2517 rows × 1 columns</p>\n",
              "</div>\n",
              "      <button class=\"colab-df-convert\" onclick=\"convertToInteractive('df-64bd53e2-c48a-408c-9a9f-bda2f8228e48')\"\n",
              "              title=\"Convert this dataframe to an interactive table.\"\n",
              "              style=\"display:none;\">\n",
              "        \n",
              "  <svg xmlns=\"http://www.w3.org/2000/svg\" height=\"24px\"viewBox=\"0 0 24 24\"\n",
              "       width=\"24px\">\n",
              "    <path d=\"M0 0h24v24H0V0z\" fill=\"none\"/>\n",
              "    <path d=\"M18.56 5.44l.94 2.06.94-2.06 2.06-.94-2.06-.94-.94-2.06-.94 2.06-2.06.94zm-11 1L8.5 8.5l.94-2.06 2.06-.94-2.06-.94L8.5 2.5l-.94 2.06-2.06.94zm10 10l.94 2.06.94-2.06 2.06-.94-2.06-.94-.94-2.06-.94 2.06-2.06.94z\"/><path d=\"M17.41 7.96l-1.37-1.37c-.4-.4-.92-.59-1.43-.59-.52 0-1.04.2-1.43.59L10.3 9.45l-7.72 7.72c-.78.78-.78 2.05 0 2.83L4 21.41c.39.39.9.59 1.41.59.51 0 1.02-.2 1.41-.59l7.78-7.78 2.81-2.81c.8-.78.8-2.07 0-2.86zM5.41 20L4 18.59l7.72-7.72 1.47 1.35L5.41 20z\"/>\n",
              "  </svg>\n",
              "      </button>\n",
              "      \n",
              "  <style>\n",
              "    .colab-df-container {\n",
              "      display:flex;\n",
              "      flex-wrap:wrap;\n",
              "      gap: 12px;\n",
              "    }\n",
              "\n",
              "    .colab-df-convert {\n",
              "      background-color: #E8F0FE;\n",
              "      border: none;\n",
              "      border-radius: 50%;\n",
              "      cursor: pointer;\n",
              "      display: none;\n",
              "      fill: #1967D2;\n",
              "      height: 32px;\n",
              "      padding: 0 0 0 0;\n",
              "      width: 32px;\n",
              "    }\n",
              "\n",
              "    .colab-df-convert:hover {\n",
              "      background-color: #E2EBFA;\n",
              "      box-shadow: 0px 1px 2px rgba(60, 64, 67, 0.3), 0px 1px 3px 1px rgba(60, 64, 67, 0.15);\n",
              "      fill: #174EA6;\n",
              "    }\n",
              "\n",
              "    [theme=dark] .colab-df-convert {\n",
              "      background-color: #3B4455;\n",
              "      fill: #D2E3FC;\n",
              "    }\n",
              "\n",
              "    [theme=dark] .colab-df-convert:hover {\n",
              "      background-color: #434B5C;\n",
              "      box-shadow: 0px 1px 3px 1px rgba(0, 0, 0, 0.15);\n",
              "      filter: drop-shadow(0px 1px 2px rgba(0, 0, 0, 0.3));\n",
              "      fill: #FFFFFF;\n",
              "    }\n",
              "  </style>\n",
              "\n",
              "      <script>\n",
              "        const buttonEl =\n",
              "          document.querySelector('#df-64bd53e2-c48a-408c-9a9f-bda2f8228e48 button.colab-df-convert');\n",
              "        buttonEl.style.display =\n",
              "          google.colab.kernel.accessAllowed ? 'block' : 'none';\n",
              "\n",
              "        async function convertToInteractive(key) {\n",
              "          const element = document.querySelector('#df-64bd53e2-c48a-408c-9a9f-bda2f8228e48');\n",
              "          const dataTable =\n",
              "            await google.colab.kernel.invokeFunction('convertToInteractive',\n",
              "                                                     [key], {});\n",
              "          if (!dataTable) return;\n",
              "\n",
              "          const docLinkHtml = 'Like what you see? Visit the ' +\n",
              "            '<a target=\"_blank\" href=https://colab.research.google.com/notebooks/data_table.ipynb>data table notebook</a>'\n",
              "            + ' to learn more about interactive tables.';\n",
              "          element.innerHTML = '';\n",
              "          dataTable['output_type'] = 'display_data';\n",
              "          await google.colab.output.renderOutput(dataTable, element);\n",
              "          const docLink = document.createElement('div');\n",
              "          docLink.innerHTML = docLinkHtml;\n",
              "          element.appendChild(docLink);\n",
              "        }\n",
              "      </script>\n",
              "    </div>\n",
              "  </div>\n",
              "  "
            ]
          },
          "metadata": {},
          "execution_count": 7
        }
      ]
    },
    {
      "cell_type": "code",
      "source": [
        "from sklearn.preprocessing import MinMaxScaler\n",
        "\n",
        "scaler = MinMaxScaler(feature_range=(0,1))\n",
        "scaled_data = scaler.fit_transform(dataset)\n",
        "scaled_data"
      ],
      "metadata": {
        "colab": {
          "base_uri": "https://localhost:8080/"
        },
        "id": "qaW53zL0RgWe",
        "outputId": "163b14fb-50a0-4276-df93-7957a0a5398f"
      },
      "execution_count": null,
      "outputs": [
        {
          "output_type": "execute_result",
          "data": {
            "text/plain": [
              "array([[0.01342049],\n",
              "       [0.01108227],\n",
              "       [0.01211521],\n",
              "       ...,\n",
              "       [0.70392508],\n",
              "       [0.74139258],\n",
              "       [0.74869954]])"
            ]
          },
          "metadata": {},
          "execution_count": 8
        }
      ]
    },
    {
      "cell_type": "code",
      "source": [
        "train_data = scaled_data[0:training_data_len , :]\n",
        "\n",
        "x_train = []\n",
        "y_train = []\n",
        "\n",
        "for i in range(60, len(train_data)):\n",
        "  x_train.append(train_data[i-60:i,0])\n",
        "  y_train.append(train_data[i,0])\n",
        "  if i<= 60:\n",
        "    print(x_train)\n",
        "    print(y_train)\n",
        "    print()"
      ],
      "metadata": {
        "colab": {
          "base_uri": "https://localhost:8080/"
        },
        "id": "D_vmywKoRi6u",
        "outputId": "8003e0ac-0664-4f80-f4d7-90ba6306846d"
      },
      "execution_count": null,
      "outputs": [
        {
          "output_type": "stream",
          "name": "stdout",
          "text": [
            "[array([0.01342049, 0.01108227, 0.01211521, 0.01198877, 0.01168531,\n",
            "       0.00827133, 0.00698162, 0.00513943, 0.00668594, 0.00416484,\n",
            "       0.00464144, 0.00473092, 0.00403256, 0.00237324, 0.00248996,\n",
            "       0.00345094, 0.00638635, 0.00842697, 0.00640192, 0.00487877,\n",
            "       0.0058553 , 0.00547402, 0.00765469, 0.01045005, 0.01046172,\n",
            "       0.00736094, 0.0066198 , 0.00445276, 0.0037544 , 0.00520363,\n",
            "       0.00586893, 0.00651085, 0.00797176, 0.00688825, 0.00768971,\n",
            "       0.00906307, 0.0113196 , 0.01134877, 0.01149467, 0.0142667 ,\n",
            "       0.01480359, 0.01513234, 0.01414414, 0.01393794, 0.012407  ,\n",
            "       0.00966805, 0.0124109 , 0.01106866, 0.01089357, 0.00793674,\n",
            "       0.00747961, 0.00688046, 0.00856313, 0.00794647, 0.01115035,\n",
            "       0.0116075 , 0.01130209, 0.00966222, 0.00851062, 0.00890161])]\n",
            "[0.008463928728319109]\n",
            "\n"
          ]
        }
      ]
    },
    {
      "cell_type": "code",
      "source": [
        "import numpy as np\n",
        "\n",
        "x_train, y_train = np.array(x_train), np.array(y_train)"
      ],
      "metadata": {
        "id": "WOI_mwzXTKvJ"
      },
      "execution_count": null,
      "outputs": []
    },
    {
      "cell_type": "code",
      "source": [
        "x_train = np.reshape(x_train,(x_train.shape[0], x_train.shape[1],1))\n",
        "x_train.shape"
      ],
      "metadata": {
        "colab": {
          "base_uri": "https://localhost:8080/"
        },
        "id": "Ey_0xB2oTOdO",
        "outputId": "ad46ac01-bc74-4137-fdd5-84d21786cf54"
      },
      "execution_count": null,
      "outputs": [
        {
          "output_type": "execute_result",
          "data": {
            "text/plain": [
              "(1954, 60, 1)"
            ]
          },
          "metadata": {},
          "execution_count": 11
        }
      ]
    },
    {
      "cell_type": "code",
      "source": [
        "#Build model\n",
        "from keras.models import Sequential\n",
        "from keras.layers import Dense, LSTM\n",
        "\n",
        "model = Sequential()\n",
        "model.add(LSTM(50, return_sequences= True, input_shape = (x_train.shape[1], 1)))\n",
        "model.add(LSTM(50,return_sequences= False))\n",
        "model.add(Dense(25))\n",
        "model.add(Dense(1))"
      ],
      "metadata": {
        "id": "Yg9te5_FTRBD"
      },
      "execution_count": null,
      "outputs": []
    },
    {
      "cell_type": "code",
      "source": [
        "#compile the model\n",
        "model.compile(optimizer = 'adam', loss='mean_squared_error')\n",
        "model.summary()"
      ],
      "metadata": {
        "id": "BaMPgMrRTTcZ",
        "colab": {
          "base_uri": "https://localhost:8080/"
        },
        "outputId": "4d7a0add-e2d5-4966-a2c5-def4ab27920f"
      },
      "execution_count": null,
      "outputs": [
        {
          "output_type": "stream",
          "name": "stdout",
          "text": [
            "Model: \"sequential\"\n",
            "_________________________________________________________________\n",
            " Layer (type)                Output Shape              Param #   \n",
            "=================================================================\n",
            " lstm (LSTM)                 (None, 60, 50)            10400     \n",
            "                                                                 \n",
            " lstm_1 (LSTM)               (None, 50)                20200     \n",
            "                                                                 \n",
            " dense (Dense)               (None, 25)                1275      \n",
            "                                                                 \n",
            " dense_1 (Dense)             (None, 1)                 26        \n",
            "                                                                 \n",
            "=================================================================\n",
            "Total params: 31,901\n",
            "Trainable params: 31,901\n",
            "Non-trainable params: 0\n",
            "_________________________________________________________________\n"
          ]
        }
      ]
    },
    {
      "cell_type": "code",
      "source": [
        "#Train the model\n",
        "model.fit(x_train, y_train, batch_size =1, epochs= 20)"
      ],
      "metadata": {
        "colab": {
          "base_uri": "https://localhost:8080/"
        },
        "id": "mCj0gfXNTeCB",
        "outputId": "6f470d20-bf08-42cf-d1f0-ac007f6aec58"
      },
      "execution_count": null,
      "outputs": [
        {
          "output_type": "stream",
          "name": "stdout",
          "text": [
            "Epoch 1/20\n",
            "1954/1954 [==============================] - 27s 10ms/step - loss: 7.6546e-04\n",
            "Epoch 2/20\n",
            "1954/1954 [==============================] - 14s 7ms/step - loss: 3.0559e-04\n",
            "Epoch 3/20\n",
            "1954/1954 [==============================] - 14s 7ms/step - loss: 3.4632e-04\n",
            "Epoch 4/20\n",
            "1954/1954 [==============================] - 14s 7ms/step - loss: 1.6985e-04\n",
            "Epoch 5/20\n",
            "1954/1954 [==============================] - 14s 7ms/step - loss: 1.8808e-04\n",
            "Epoch 6/20\n",
            "1954/1954 [==============================] - 15s 7ms/step - loss: 1.6544e-04\n",
            "Epoch 7/20\n",
            "1954/1954 [==============================] - 15s 8ms/step - loss: 1.5646e-04\n",
            "Epoch 8/20\n",
            "1954/1954 [==============================] - 14s 7ms/step - loss: 1.3201e-04\n",
            "Epoch 9/20\n",
            "1954/1954 [==============================] - 17s 9ms/step - loss: 1.5969e-04\n",
            "Epoch 10/20\n",
            "1954/1954 [==============================] - 15s 8ms/step - loss: 1.2083e-04\n",
            "Epoch 11/20\n",
            "1954/1954 [==============================] - 14s 7ms/step - loss: 1.3879e-04\n",
            "Epoch 12/20\n",
            "1954/1954 [==============================] - 14s 7ms/step - loss: 1.3345e-04\n",
            "Epoch 13/20\n",
            "1954/1954 [==============================] - 14s 7ms/step - loss: 1.2086e-04\n",
            "Epoch 14/20\n",
            "1954/1954 [==============================] - 14s 7ms/step - loss: 1.1559e-04\n",
            "Epoch 15/20\n",
            "1954/1954 [==============================] - 15s 8ms/step - loss: 1.1822e-04\n",
            "Epoch 16/20\n",
            "1954/1954 [==============================] - 14s 7ms/step - loss: 1.2213e-04\n",
            "Epoch 17/20\n",
            "1954/1954 [==============================] - 14s 7ms/step - loss: 1.2137e-04\n",
            "Epoch 18/20\n",
            "1954/1954 [==============================] - 14s 7ms/step - loss: 1.0859e-04\n",
            "Epoch 19/20\n",
            "1954/1954 [==============================] - 15s 7ms/step - loss: 1.0225e-04\n",
            "Epoch 20/20\n",
            "1954/1954 [==============================] - 14s 7ms/step - loss: 1.0730e-04\n"
          ]
        },
        {
          "output_type": "execute_result",
          "data": {
            "text/plain": [
              "<keras.callbacks.History at 0x7f18eec64310>"
            ]
          },
          "metadata": {},
          "execution_count": 14
        }
      ]
    },
    {
      "cell_type": "code",
      "source": [
        "#Create the testing dataset\n",
        "test_data = scaled_data[training_data_len-60:, :]\n",
        "\n",
        "x_test = []\n",
        "y_test = dataset[training_data_len:, :]\n",
        "for i in range(60, len(test_data)):\n",
        "  x_test.append(test_data[i-60:i,0])\n"
      ],
      "metadata": {
        "id": "UlNjbthFTiCO"
      },
      "execution_count": null,
      "outputs": []
    },
    {
      "cell_type": "code",
      "source": [
        "#convert the data to a numpy array\n",
        "x_test = np.array(x_test)"
      ],
      "metadata": {
        "id": "ZdL28oFiX1-D"
      },
      "execution_count": null,
      "outputs": []
    },
    {
      "cell_type": "code",
      "source": [
        "x_test = np.reshape(x_test, (x_test.shape[0], x_test.shape[1], 1 ))"
      ],
      "metadata": {
        "id": "cE6zWiLEX5iG"
      },
      "execution_count": null,
      "outputs": []
    },
    {
      "cell_type": "code",
      "source": [
        "#Get the models predicted price values\n",
        "predictions = model.predict(x_test)\n",
        "predictions = scaler.inverse_transform(predictions)"
      ],
      "metadata": {
        "colab": {
          "base_uri": "https://localhost:8080/"
        },
        "id": "-vkMDFPPX7rM",
        "outputId": "5041b4d0-4ab6-4098-a060-46eb94d5a3f3"
      },
      "execution_count": null,
      "outputs": [
        {
          "output_type": "stream",
          "name": "stdout",
          "text": [
            "16/16 [==============================] - 1s 4ms/step\n"
          ]
        }
      ]
    },
    {
      "cell_type": "code",
      "source": [
        "#Get the Root Mean Squared Error\n",
        "rmse =np.sqrt(np.mean(((predictions - y_test)**2))) \n",
        "rmse"
      ],
      "metadata": {
        "colab": {
          "base_uri": "https://localhost:8080/"
        },
        "id": "Eza3bArpYCfk",
        "outputId": "fddd618c-3eeb-4623-f7a0-e8ecfc455aff"
      },
      "execution_count": null,
      "outputs": [
        {
          "output_type": "execute_result",
          "data": {
            "text/plain": [
              "2.74442003978032"
            ]
          },
          "metadata": {},
          "execution_count": 19
        }
      ]
    },
    {
      "cell_type": "code",
      "source": [
        "#plot the data\n",
        "train = data[:training_data_len]\n",
        "valid = data[training_data_len:]\n",
        "valid['Predictions'] = predictions\n",
        "#Visualize the data\n",
        "plt.figure(figsize = (14,7))\n",
        "plt.title('Model')\n",
        "plt.xlabel('Date', fontsize =12)\n",
        "plt.ylabel('Close Price USD',fontsize = 12)\n",
        "plt.plot(train['Close'])\n",
        "plt.plot(valid[['Close', 'Predictions']])\n",
        "plt.legend(['Train', 'Val', 'Predictions'], loc='lower right')\n",
        "plt.show()"
      ],
      "metadata": {
        "colab": {
          "base_uri": "https://localhost:8080/",
          "height": 749
        },
        "id": "XwgnJ7v9YFQ3",
        "outputId": "e74da8aa-a612-498e-e846-18b8fc6cd5e8"
      },
      "execution_count": null,
      "outputs": [
        {
          "output_type": "stream",
          "name": "stderr",
          "text": [
            "<ipython-input-20-4c4d70599cd5>:4: SettingWithCopyWarning: \n",
            "A value is trying to be set on a copy of a slice from a DataFrame.\n",
            "Try using .loc[row_indexer,col_indexer] = value instead\n",
            "\n",
            "See the caveats in the documentation: https://pandas.pydata.org/pandas-docs/stable/user_guide/indexing.html#returning-a-view-versus-a-copy\n",
            "  valid['Predictions'] = predictions\n"
          ]
        },
        {
          "output_type": "display_data",
          "data": {
            "text/plain": [
              "<Figure size 1400x700 with 1 Axes>"
            ],
            "image/png": "[encoded data removed]"
          },
          "metadata": {}
        }
      ]
    },
    {
      "cell_type": "code",
      "source": [
        "#Show the vail and predicted prices\n",
        "valid"
      ],
      "metadata": {
        "colab": {
          "base_uri": "https://localhost:8080/",
          "height": 455
        },
        "id": "Wc2yYSS5YIFH",
        "outputId": "dc3d915b-57cf-48aa-a8a4-1db1f416f26e"
      },
      "execution_count": null,
      "outputs": [
        {
          "output_type": "execute_result",
          "data": {
            "text/plain": [
              "                 Close  Predictions\n",
              "Date                               \n",
              "2021-05-14  113.918999   112.525284\n",
              "2021-05-17  114.445999   114.904282\n",
              "2021-05-18  113.123497   115.759506\n",
              "2021-05-19  113.574997   114.576309\n",
              "2021-05-20  115.347504   114.497581\n",
              "...                ...          ...\n",
              "2023-05-08  107.769997   106.981949\n",
              "2023-05-09  107.349998   108.940590\n",
              "2023-05-10  111.750000   108.932152\n",
              "2023-05-11  116.570000   112.257660\n",
              "2023-05-12  117.510002   116.761047\n",
              "\n",
              "[503 rows x 2 columns]"
            ],
            "text/html": [
              "\n",
              "  <div id=\"df-41d5bb07-35a8-46a5-bed2-18cccd7806c5\">\n",
              "    <div class=\"colab-df-container\">\n",
              "      <div>\n",
              "<style scoped>\n",
              "    .dataframe tbody tr th:only-of-type {\n",
              "        vertical-align: middle;\n",
              "    }\n",
              "\n",
              "    .dataframe tbody tr th {\n",
              "        vertical-align: top;\n",
              "    }\n",
              "\n",
              "    .dataframe thead th {\n",
              "        text-align: right;\n",
              "    }\n",
              "</style>\n",
              "<table border=\"1\" class=\"dataframe\">\n",
              "  <thead>\n",
              "    <tr style=\"text-align: right;\">\n",
              "      <th></th>\n",
              "      <th>Close</th>\n",
              "      <th>Predictions</th>\n",
              "    </tr>\n",
              "    <tr>\n",
              "      <th>Date</th>\n",
              "      <th></th>\n",
              "      <th></th>\n",
              "    </tr>\n",
              "  </thead>\n",
              "  <tbody>\n",
              "    <tr>\n",
              "      <th>2021-05-14</th>\n",
              "      <td>113.918999</td>\n",
              "      <td>112.525284</td>\n",
              "    </tr>\n",
              "    <tr>\n",
              "      <th>2021-05-17</th>\n",
              "      <td>114.445999</td>\n",
              "      <td>114.904282</td>\n",
              "    </tr>\n",
              "    <tr>\n",
              "      <th>2021-05-18</th>\n",
              "      <td>113.123497</td>\n",
              "      <td>115.759506</td>\n",
              "    </tr>\n",
              "    <tr>\n",
              "      <th>2021-05-19</th>\n",
              "      <td>113.574997</td>\n",
              "      <td>114.576309</td>\n",
              "    </tr>\n",
              "    <tr>\n",
              "      <th>2021-05-20</th>\n",
              "      <td>115.347504</td>\n",
              "      <td>114.497581</td>\n",
              "    </tr>\n",
              "    <tr>\n",
              "      <th>...</th>\n",
              "      <td>...</td>\n",
              "      <td>...</td>\n",
              "    </tr>\n",
              "    <tr>\n",
              "      <th>2023-05-08</th>\n",
              "      <td>107.769997</td>\n",
              "      <td>106.981949</td>\n",
              "    </tr>\n",
              "    <tr>\n",
              "      <th>2023-05-09</th>\n",
              "      <td>107.349998</td>\n",
              "      <td>108.940590</td>\n",
              "    </tr>\n",
              "    <tr>\n",
              "      <th>2023-05-10</th>\n",
              "      <td>111.750000</td>\n",
              "      <td>108.932152</td>\n",
              "    </tr>\n",
              "    <tr>\n",
              "      <th>2023-05-11</th>\n",
              "      <td>116.570000</td>\n",
              "      <td>112.257660</td>\n",
              "    </tr>\n",
              "    <tr>\n",
              "      <th>2023-05-12</th>\n",
              "      <td>117.510002</td>\n",
              "      <td>116.761047</td>\n",
              "    </tr>\n",
              "  </tbody>\n",
              "</table>\n",
              "<p>503 rows × 2 columns</p>\n",
              "</div>\n",
              "      <button class=\"colab-df-convert\" onclick=\"convertToInteractive('df-41d5bb07-35a8-46a5-bed2-18cccd7806c5')\"\n",
              "              title=\"Convert this dataframe to an interactive table.\"\n",
              "              style=\"display:none;\">\n",
              "        \n",
              "  <svg xmlns=\"http://www.w3.org/2000/svg\" height=\"24px\"viewBox=\"0 0 24 24\"\n",
              "       width=\"24px\">\n",
              "    <path d=\"M0 0h24v24H0V0z\" fill=\"none\"/>\n",
              "    <path d=\"M18.56 5.44l.94 2.06.94-2.06 2.06-.94-2.06-.94-.94-2.06-.94 2.06-2.06.94zm-11 1L8.5 8.5l.94-2.06 2.06-.94-2.06-.94L8.5 2.5l-.94 2.06-2.06.94zm10 10l.94 2.06.94-2.06 2.06-.94-2.06-.94-.94-2.06-.94 2.06-2.06.94z\"/><path d=\"M17.41 7.96l-1.37-1.37c-.4-.4-.92-.59-1.43-.59-.52 0-1.04.2-1.43.59L10.3 9.45l-7.72 7.72c-.78.78-.78 2.05 0 2.83L4 21.41c.39.39.9.59 1.41.59.51 0 1.02-.2 1.41-.59l7.78-7.78 2.81-2.81c.8-.78.8-2.07 0-2.86zM5.41 20L4 18.59l7.72-7.72 1.47 1.35L5.41 20z\"/>\n",
              "  </svg>\n",
              "      </button>\n",
              "      \n",
              "  <style>\n",
              "    .colab-df-container {\n",
              "      display:flex;\n",
              "      flex-wrap:wrap;\n",
              "      gap: 12px;\n",
              "    }\n",
              "\n",
              "    .colab-df-convert {\n",
              "      background-color: #E8F0FE;\n",
              "      border: none;\n",
              "      border-radius: 50%;\n",
              "      cursor: pointer;\n",
              "      display: none;\n",
              "      fill: #1967D2;\n",
              "      height: 32px;\n",
              "      padding: 0 0 0 0;\n",
              "      width: 32px;\n",
              "    }\n",
              "\n",
              "    .colab-df-convert:hover {\n",
              "      background-color: #E2EBFA;\n",
              "      box-shadow: 0px 1px 2px rgba(60, 64, 67, 0.3), 0px 1px 3px 1px rgba(60, 64, 67, 0.15);\n",
              "      fill: #174EA6;\n",
              "    }\n",
              "\n",
              "    [theme=dark] .colab-df-convert {\n",
              "      background-color: #3B4455;\n",
              "      fill: #D2E3FC;\n",
              "    }\n",
              "\n",
              "    [theme=dark] .colab-df-convert:hover {\n",
              "      background-color: #434B5C;\n",
              "      box-shadow: 0px 1px 3px 1px rgba(0, 0, 0, 0.15);\n",
              "      filter: drop-shadow(0px 1px 2px rgba(0, 0, 0, 0.3));\n",
              "      fill: #FFFFFF;\n",
              "    }\n",
              "  </style>\n",
              "\n",
              "      <script>\n",
              "        const buttonEl =\n",
              "          document.querySelector('#df-41d5bb07-35a8-46a5-bed2-18cccd7806c5 button.colab-df-convert');\n",
              "        buttonEl.style.display =\n",
              "          google.colab.kernel.accessAllowed ? 'block' : 'none';\n",
              "\n",
              "        async function convertToInteractive(key) {\n",
              "          const element = document.querySelector('#df-41d5bb07-35a8-46a5-bed2-18cccd7806c5');\n",
              "          const dataTable =\n",
              "            await google.colab.kernel.invokeFunction('convertToInteractive',\n",
              "                                                     [key], {});\n",
              "          if (!dataTable) return;\n",
              "\n",
              "          const docLinkHtml = 'Like what you see? Visit the ' +\n",
              "            '<a target=\"_blank\" href=https://colab.research.google.com/notebooks/data_table.ipynb>data table notebook</a>'\n",
              "            + ' to learn more about interactive tables.';\n",
              "          element.innerHTML = '';\n",
              "          dataTable['output_type'] = 'display_data';\n",
              "          await google.colab.output.renderOutput(dataTable, element);\n",
              "          const docLink = document.createElement('div');\n",
              "          docLink.innerHTML = docLinkHtml;\n",
              "          element.appendChild(docLink);\n",
              "        }\n",
              "      </script>\n",
              "    </div>\n",
              "  </div>\n",
              "  "
            ]
          },
          "metadata": {},
          "execution_count": 21
        }
      ]
    },
    {
      "cell_type": "code",
      "source": [
        "#save model\n",
        "model.save(\"stock.h5\")"
      ],
      "metadata": {
        "id": "21L8znwHr4Le"
      },
      "execution_count": null,
      "outputs": []
    },
    {
      "cell_type": "code",
      "source": [
        "#load model\n",
        "from tensorflow.keras.models import load_model\n",
        "model_RNN=load_model('stock.h5')"
      ],
      "metadata": {
        "id": "0lFGIdyYxaGE"
      },
      "execution_count": null,
      "outputs": []
    },
    {
      "cell_type": "code",
      "source": [
        "#Get the quote\n",
        "quote = yf.download('GOOGL', start='2013-05-15', end='2023-05-15')\n",
        "#Create a dataframe\n",
        "new_df = apple_quote.filter(['Close'])\n",
        "#Get teh last 60 day closing price values and convert the dataframe to an array \n",
        "last_60_days = new_df[-60:].values\n",
        "#Scale the data to be values between 0 and 1\n",
        "last_60_days_scaled = scaler.transform(last_60_days)\n",
        "#Create an emty list\n",
        "xx_test = []\n",
        "#append the past 60 days\n",
        "xx_test.append(last_60_days_scaled)\n",
        "#convert the xx_test dataset to a numpy array\n",
        "xx_test = np.array(xx_test)\n",
        "#reshape the data \n",
        "xx_test = np.reshape(xx_test,(xx_test.shape[0], xx_test.shape[1], 1))\n",
        "#get the predicted scaled price \n",
        "pred_price =  model_RNN.predict(xx_test)\n",
        "#undo the scaling \n",
        "pred_price = scaler.inverse_transform(pred_price)\n",
        "pred_price = pred_price[0][0]\n",
        "print(' Dự đoán giá đóng của tiếp theo là: ', pred_price)"
      ],
      "metadata": {
        "id": "w_lzhqPUwkX9",
        "colab": {
          "base_uri": "https://localhost:8080/"
        },
        "outputId": "2f7c6770-92ac-4615-e8c1-adaefd48dcb4"
      },
      "execution_count": null,
      "outputs": [
        {
          "output_type": "stream",
          "name": "stdout",
          "text": [
            "[*********************100%***********************]  1 of 1 completed\n",
            "1/1 [==============================] - 1s 616ms/step\n",
            " Dự đoán giá đóng của tiếp theo là:  118.1506\n"
          ]
        }
      ]
    },
    {
      "cell_type": "code",
      "source": [],
      "metadata": {
        "id": "0swnOGnwwky_"
      },
      "execution_count": null,
      "outputs": []
    },
    {
      "cell_type": "code",
      "source": [],
      "metadata": {
        "id": "NL9NSt8GpRic"
      },
      "execution_count": null,
      "outputs": []
    }
  ]
}